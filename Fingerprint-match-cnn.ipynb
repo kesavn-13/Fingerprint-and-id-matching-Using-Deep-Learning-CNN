{
 "cells": [
  {
   "cell_type": "code",
   "execution_count": 1,
   "id": "4c16f6a9",
   "metadata": {
    "_cell_guid": "b1076dfc-b9ad-4769-8c92-a6c4dae69d19",
    "_uuid": "8f2839f25d086af736a60e9eeb907d3b93b6e0e5",
    "execution": {
     "iopub.execute_input": "2022-10-22T05:33:44.363113Z",
     "iopub.status.busy": "2022-10-22T05:33:44.362358Z",
     "iopub.status.idle": "2022-10-22T05:33:44.794545Z",
     "shell.execute_reply": "2022-10-22T05:33:44.793371Z"
    },
    "papermill": {
     "duration": 0.445092,
     "end_time": "2022-10-22T05:33:44.797393",
     "exception": false,
     "start_time": "2022-10-22T05:33:44.352301",
     "status": "completed"
    },
    "tags": []
   },
   "outputs": [],
   "source": [
    "\n",
    "\n",
    "import numpy as np # linear algebra\n",
    "import pandas as pd # data processing, CSV file I/O (e.g. pd.read_csv)\n",
    "\n",
    "\n",
    "\n",
    "import os\n",
    "import cv2\n",
    "from matplotlib import pyplot as plt\n",
    "from PIL import Image"
   ]
  },
  {
   "cell_type": "markdown",
   "id": "33f5cd13",
   "metadata": {
    "papermill": {
     "duration": 0.007049,
     "end_time": "2022-10-22T05:33:44.812734",
     "exception": false,
     "start_time": "2022-10-22T05:33:44.805685",
     "status": "completed"
    },
    "tags": []
   },
   "source": [
    "## Pre Processing Images"
   ]
  },
  {
   "cell_type": "code",
   "execution_count": 2,
   "id": "83eba8ca",
   "metadata": {
    "execution": {
     "iopub.execute_input": "2022-10-22T05:33:44.829708Z",
     "iopub.status.busy": "2022-10-22T05:33:44.828736Z",
     "iopub.status.idle": "2022-10-22T05:33:45.035532Z",
     "shell.execute_reply": "2022-10-22T05:33:45.034531Z"
    },
    "papermill": {
     "duration": 0.217379,
     "end_time": "2022-10-22T05:33:45.037680",
     "exception": false,
     "start_time": "2022-10-22T05:33:44.820301",
     "status": "completed"
    },
    "tags": []
   },
   "outputs": [],
   "source": [
    "\n",
    "images = 'F:\\Fingerprint_recog\\SOCOFing\\Real'\n",
    "len(os.listdir(images))\n",
    "\n",
    "def load_img(image):\n",
    "  img =[]\n",
    "  for i in sorted(os.listdir(image)):\n",
    "    img1 = cv2.imread(os.path.join(image,i))\n",
    "    img1 = cv2.cvtColor(img1, cv2.COLOR_BGR2GRAY)\n",
    "    img1 = cv2.resize(img1, (64, 64))\n",
    "    img.append(img1)\n",
    "\n",
    "  return img\n"
   ]
  },
  {
   "cell_type": "code",
   "execution_count": 3,
   "id": "eb358a67",
   "metadata": {
    "execution": {
     "iopub.execute_input": "2022-10-22T05:33:45.054461Z",
     "iopub.status.busy": "2022-10-22T05:33:45.053606Z",
     "iopub.status.idle": "2022-10-22T05:34:35.884702Z",
     "shell.execute_reply": "2022-10-22T05:34:35.883574Z"
    },
    "papermill": {
     "duration": 50.853002,
     "end_time": "2022-10-22T05:34:35.898380",
     "exception": false,
     "start_time": "2022-10-22T05:33:45.045378",
     "status": "completed"
    },
    "tags": []
   },
   "outputs": [
    {
     "data": {
      "text/plain": [
       "(64, 64)"
      ]
     },
     "execution_count": 3,
     "metadata": {},
     "output_type": "execute_result"
    }
   ],
   "source": [
    "preprocessed_images=load_img(images)\n",
    "preprocessed_images[1].shape\n"
   ]
  },
  {
   "cell_type": "code",
   "execution_count": 4,
   "id": "ce3f83fb",
   "metadata": {
    "execution": {
     "iopub.execute_input": "2022-10-22T05:34:35.915628Z",
     "iopub.status.busy": "2022-10-22T05:34:35.915272Z",
     "iopub.status.idle": "2022-10-22T05:34:35.935619Z",
     "shell.execute_reply": "2022-10-22T05:34:35.934552Z"
    },
    "papermill": {
     "duration": 0.030703,
     "end_time": "2022-10-22T05:34:35.937857",
     "exception": false,
     "start_time": "2022-10-22T05:34:35.907154",
     "status": "completed"
    },
    "tags": []
   },
   "outputs": [
    {
     "data": {
      "text/plain": [
       "(4096,)"
      ]
     },
     "execution_count": 4,
     "metadata": {},
     "output_type": "execute_result"
    }
   ],
   "source": [
    "preprocessed_images = np.array(preprocessed_images)\n",
    "preprocessed_images=preprocessed_images.reshape((6000,-1))\n",
    "preprocessed_images[1].shape"
   ]
  },
  {
   "cell_type": "code",
   "execution_count": 5,
   "id": "1258e429",
   "metadata": {
    "execution": {
     "iopub.execute_input": "2022-10-22T05:34:35.954369Z",
     "iopub.status.busy": "2022-10-22T05:34:35.954076Z",
     "iopub.status.idle": "2022-10-22T05:34:35.960294Z",
     "shell.execute_reply": "2022-10-22T05:34:35.959222Z"
    },
    "papermill": {
     "duration": 0.017551,
     "end_time": "2022-10-22T05:34:35.963335",
     "exception": false,
     "start_time": "2022-10-22T05:34:35.945784",
     "status": "completed"
    },
    "tags": []
   },
   "outputs": [
    {
     "data": {
      "text/plain": [
       "(6000, 4096)"
      ]
     },
     "execution_count": 5,
     "metadata": {},
     "output_type": "execute_result"
    }
   ],
   "source": [
    "preprocessed_images.shape"
   ]
  },
  {
   "cell_type": "code",
   "execution_count": 6,
   "id": "7f3d978b",
   "metadata": {
    "execution": {
     "iopub.execute_input": "2022-10-22T05:34:35.980354Z",
     "iopub.status.busy": "2022-10-22T05:34:35.980084Z",
     "iopub.status.idle": "2022-10-22T05:34:35.994486Z",
     "shell.execute_reply": "2022-10-22T05:34:35.993650Z"
    },
    "papermill": {
     "duration": 0.025401,
     "end_time": "2022-10-22T05:34:35.996887",
     "exception": false,
     "start_time": "2022-10-22T05:34:35.971486",
     "status": "completed"
    },
    "tags": []
   },
   "outputs": [],
   "source": [
    "y_labels = []\n",
    "gender = []\n",
    "hand = []\n",
    "finger = []\n",
    "for img in sorted(os.listdir(images)):\n",
    "    temp = img.split('_')\n",
    "    y_labels.append(temp[0])\n",
    "    gender.append(temp[2])\n",
    "    hand.append(temp[3])\n",
    "    finger.append(temp[4])\n",
    "\n"
   ]
  },
  {
   "cell_type": "code",
   "execution_count": 7,
   "id": "4dab2dcd",
   "metadata": {
    "execution": {
     "iopub.execute_input": "2022-10-22T05:34:36.013457Z",
     "iopub.status.busy": "2022-10-22T05:34:36.013186Z",
     "iopub.status.idle": "2022-10-22T05:34:36.017986Z",
     "shell.execute_reply": "2022-10-22T05:34:36.016910Z"
    },
    "papermill": {
     "duration": 0.01702,
     "end_time": "2022-10-22T05:34:36.021787",
     "exception": false,
     "start_time": "2022-10-22T05:34:36.004767",
     "status": "completed"
    },
    "tags": []
   },
   "outputs": [
    {
     "name": "stdout",
     "output_type": "stream",
     "text": [
      "['100', '100', '100', '100', '100', '100', '100', '100', '100', '100', '101']\n"
     ]
    }
   ],
   "source": [
    "print(y_labels[:11])"
   ]
  },
  {
   "cell_type": "code",
   "execution_count": 8,
   "id": "44600071",
   "metadata": {
    "execution": {
     "iopub.execute_input": "2022-10-22T05:34:36.037913Z",
     "iopub.status.busy": "2022-10-22T05:34:36.037647Z",
     "iopub.status.idle": "2022-10-22T05:34:37.689320Z",
     "shell.execute_reply": "2022-10-22T05:34:37.688173Z"
    },
    "papermill": {
     "duration": 1.662755,
     "end_time": "2022-10-22T05:34:37.692151",
     "exception": false,
     "start_time": "2022-10-22T05:34:36.029396",
     "status": "completed"
    },
    "tags": []
   },
   "outputs": [],
   "source": [
    "from sklearn.model_selection import train_test_split\n",
    "X_train, X_test, y_train, y_test = train_test_split(preprocessed_images,y_labels,random_state=0,test_size =0.20)"
   ]
  },
  {
   "cell_type": "code",
   "execution_count": 9,
   "id": "e97630e6",
   "metadata": {
    "execution": {
     "iopub.execute_input": "2022-10-22T05:34:37.709475Z",
     "iopub.status.busy": "2022-10-22T05:34:37.709149Z",
     "iopub.status.idle": "2022-10-22T05:34:37.972863Z",
     "shell.execute_reply": "2022-10-22T05:34:37.971907Z"
    },
    "papermill": {
     "duration": 0.27512,
     "end_time": "2022-10-22T05:34:37.975304",
     "exception": false,
     "start_time": "2022-10-22T05:34:37.700184",
     "status": "completed"
    },
    "tags": []
   },
   "outputs": [
    {
     "data": {
      "text/plain": [
       "<matplotlib.image.AxesImage at 0x2cc30f542e8>"
      ]
     },
     "execution_count": 9,
     "metadata": {},
     "output_type": "execute_result"
    },
    {
     "data": {
      "image/png": "[encoded data removed]",
      "text/plain": [
       "<Figure size 432x288 with 1 Axes>"
      ]
     },
     "metadata": {
      "needs_background": "light"
     },
     "output_type": "display_data"
    }
   ],
   "source": [
    "from matplotlib import pyplot as plt\n",
    "plt.imshow(preprocessed_images[0].reshape(64,64),cmap =plt.cm.bone)"
   ]
  },
  {
   "cell_type": "code",
   "execution_count": null,
   "id": "9b2bf8ea",
   "metadata": {
    "execution": {
     "iopub.execute_input": "2022-10-22T05:22:05.839684Z",
     "iopub.status.busy": "2022-10-22T05:22:05.839288Z",
     "iopub.status.idle": "2022-10-22T05:22:05.847386Z",
     "shell.execute_reply": "2022-10-22T05:22:05.846470Z",
     "shell.execute_reply.started": "2022-10-22T05:22:05.839647Z"
    },
    "papermill": {
     "duration": 0.008199,
     "end_time": "2022-10-22T05:34:37.992321",
     "exception": false,
     "start_time": "2022-10-22T05:34:37.984122",
     "status": "completed"
    },
    "tags": []
   },
   "outputs": [],
   "source": []
  },
  {
   "cell_type": "code",
   "execution_count": 10,
   "id": "a94b4c4a",
   "metadata": {
    "execution": {
     "iopub.execute_input": "2022-10-22T05:34:38.009880Z",
     "iopub.status.busy": "2022-10-22T05:34:38.009545Z",
     "iopub.status.idle": "2022-10-22T05:35:48.816216Z",
     "shell.execute_reply": "2022-10-22T05:35:48.815069Z"
    },
    "papermill": {
     "duration": 70.826237,
     "end_time": "2022-10-22T05:35:48.826841",
     "exception": false,
     "start_time": "2022-10-22T05:34:38.000604",
     "status": "completed"
    },
    "tags": []
   },
   "outputs": [
    {
     "data": {
      "text/plain": [
       "PCA(n_components=0.9)"
      ]
     },
     "execution_count": 10,
     "metadata": {},
     "output_type": "execute_result"
    }
   ],
   "source": [
    "from sklearn.decomposition import PCA\n",
    "pca = PCA(0.90)\n",
    "pca.fit(preprocessed_images)"
   ]
  },
  {
   "cell_type": "code",
   "execution_count": null,
   "id": "2944b45a",
   "metadata": {},
   "outputs": [],
   "source": []
  },
  {
   "cell_type": "code",
   "execution_count": 11,
   "id": "353b1cbf",
   "metadata": {
    "execution": {
     "iopub.execute_input": "2022-10-22T05:35:48.845264Z",
     "iopub.status.busy": "2022-10-22T05:35:48.844929Z",
     "iopub.status.idle": "2022-10-22T05:35:49.067032Z",
     "shell.execute_reply": "2022-10-22T05:35:49.065992Z"
    },
    "papermill": {
     "duration": 0.234041,
     "end_time": "2022-10-22T05:35:49.069270",
     "exception": false,
     "start_time": "2022-10-22T05:35:48.835229",
     "status": "completed"
    },
    "tags": []
   },
   "outputs": [
    {
     "data": {
      "text/plain": [
       "[<matplotlib.lines.Line2D at 0x2cc3124f978>]"
      ]
     },
     "execution_count": 11,
     "metadata": {},
     "output_type": "execute_result"
    },
    {
     "data": {
      "image/png": "[encoded data removed]",
      "text/plain": [
       "<Figure size 432x288 with 1 Axes>"
      ]
     },
     "metadata": {
      "needs_background": "light"
     },
     "output_type": "display_data"
    }
   ],
   "source": [
    "import numpy as np\n",
    "plt.plot(np.cumsum(pca.explained_variance_ratio_))"
   ]
  },
  {
   "cell_type": "code",
   "execution_count": 12,
   "id": "15d5c814",
   "metadata": {
    "execution": {
     "iopub.execute_input": "2022-10-22T05:35:49.088742Z",
     "iopub.status.busy": "2022-10-22T05:35:49.087920Z",
     "iopub.status.idle": "2022-10-22T05:35:49.307470Z",
     "shell.execute_reply": "2022-10-22T05:35:49.306542Z"
    },
    "papermill": {
     "duration": 0.231261,
     "end_time": "2022-10-22T05:35:49.309458",
     "exception": false,
     "start_time": "2022-10-22T05:35:49.078197",
     "status": "completed"
    },
    "tags": []
   },
   "outputs": [
    {
     "data": {
      "text/plain": [
       "<matplotlib.image.AxesImage at 0x2cc312d7c18>"
      ]
     },
     "execution_count": 12,
     "metadata": {},
     "output_type": "execute_result"
    },
    {
     "data": {
      "image/png": "[encoded data removed]",
      "text/plain": [
       "<Figure size 432x288 with 1 Axes>"
      ]
     },
     "metadata": {
      "needs_background": "light"
     },
     "output_type": "display_data"
    }
   ],
   "source": [
    "plt.imshow(pca.components_[0].reshape(64,64),cmap =plt.cm.bone)"
   ]
  },
  {
   "cell_type": "code",
   "execution_count": 13,
   "id": "13139837",
   "metadata": {
    "execution": {
     "iopub.execute_input": "2022-10-22T05:35:49.330134Z",
     "iopub.status.busy": "2022-10-22T05:35:49.329214Z",
     "iopub.status.idle": "2022-10-22T05:37:00.576676Z",
     "shell.execute_reply": "2022-10-22T05:37:00.575666Z"
    },
    "papermill": {
     "duration": 71.269177,
     "end_time": "2022-10-22T05:37:00.587963",
     "exception": false,
     "start_time": "2022-10-22T05:35:49.318786",
     "status": "completed"
    },
    "tags": []
   },
   "outputs": [
    {
     "data": {
      "text/plain": [
       "(6000, 1164)"
      ]
     },
     "execution_count": 13,
     "metadata": {},
     "output_type": "execute_result"
    }
   ],
   "source": [
    "omega = pca.fit_transform(preprocessed_images)\n",
    "omega.shape"
   ]
  },
  {
   "cell_type": "code",
   "execution_count": 14,
   "id": "4e268310",
   "metadata": {
    "execution": {
     "iopub.execute_input": "2022-10-22T05:37:00.607345Z",
     "iopub.status.busy": "2022-10-22T05:37:00.607041Z",
     "iopub.status.idle": "2022-10-22T05:37:00.818360Z",
     "shell.execute_reply": "2022-10-22T05:37:00.817418Z"
    },
    "papermill": {
     "duration": 0.223357,
     "end_time": "2022-10-22T05:37:00.820384",
     "exception": false,
     "start_time": "2022-10-22T05:37:00.597027",
     "status": "completed"
    },
    "tags": []
   },
   "outputs": [
    {
     "data": {
      "text/plain": [
       "<matplotlib.image.AxesImage at 0x2cc31346198>"
      ]
     },
     "execution_count": 14,
     "metadata": {},
     "output_type": "execute_result"
    },
    {
     "data": {
      "image/png": "[encoded data removed]",
      "text/plain": [
       "<Figure size 432x288 with 1 Axes>"
      ]
     },
     "metadata": {
      "needs_background": "light"
     },
     "output_type": "display_data"
    }
   ],
   "source": [
    "plt.imshow(preprocessed_images[0].reshape(64,64),cmap =plt.cm.bone)"
   ]
  },
  {
   "cell_type": "markdown",
   "id": "9e30d09a",
   "metadata": {
    "papermill": {
     "duration": 0.008865,
     "end_time": "2022-10-22T05:37:00.838814",
     "exception": false,
     "start_time": "2022-10-22T05:37:00.829949",
     "status": "completed"
    },
    "tags": []
   },
   "source": [
    "Back to image with important features\n"
   ]
  },
  {
   "cell_type": "code",
   "execution_count": 18,
   "id": "3b04731b",
   "metadata": {
    "execution": {
     "iopub.execute_input": "2022-10-22T05:37:00.858603Z",
     "iopub.status.busy": "2022-10-22T05:37:00.857702Z",
     "iopub.status.idle": "2022-10-22T05:37:02.107012Z",
     "shell.execute_reply": "2022-10-22T05:37:02.104203Z"
    },
    "papermill": {
     "duration": 1.263517,
     "end_time": "2022-10-22T05:37:02.111384",
     "exception": false,
     "start_time": "2022-10-22T05:37:00.847867",
     "status": "completed"
    },
    "tags": []
   },
   "outputs": [
    {
     "data": {
      "text/plain": [
       "(6000, 4096)"
      ]
     },
     "execution_count": 18,
     "metadata": {},
     "output_type": "execute_result"
    }
   ],
   "source": [
    "projectedFinger = np.dot(omega, pca.components_)\n",
    "projectedFinger.shape"
   ]
  },
  {
   "cell_type": "code",
   "execution_count": 19,
   "id": "73d36ab4",
   "metadata": {
    "execution": {
     "iopub.execute_input": "2022-10-22T05:37:02.160043Z",
     "iopub.status.busy": "2022-10-22T05:37:02.159557Z",
     "iopub.status.idle": "2022-10-22T05:37:02.464276Z",
     "shell.execute_reply": "2022-10-22T05:37:02.463298Z"
    },
    "papermill": {
     "duration": 0.33606,
     "end_time": "2022-10-22T05:37:02.466953",
     "exception": false,
     "start_time": "2022-10-22T05:37:02.130893",
     "status": "completed"
    },
    "tags": []
   },
   "outputs": [
    {
     "data": {
      "text/plain": [
       "<matplotlib.image.AxesImage at 0x2cc387e0080>"
      ]
     },
     "execution_count": 19,
     "metadata": {},
     "output_type": "execute_result"
    },
    {
     "data": {
      "image/png": "[encoded data removed]",
      "text/plain": [
       "<Figure size 432x288 with 1 Axes>"
      ]
     },
     "metadata": {
      "needs_background": "light"
     },
     "output_type": "display_data"
    }
   ],
   "source": [
    "plt.imshow(projectedFinger[0].reshape(64,64),cmap =plt.cm.bone)"
   ]
  },
  {
   "cell_type": "code",
   "execution_count": 20,
   "id": "2cf1ccb2",
   "metadata": {
    "execution": {
     "iopub.execute_input": "2022-10-22T05:37:02.498854Z",
     "iopub.status.busy": "2022-10-22T05:37:02.498431Z",
     "iopub.status.idle": "2022-10-22T05:37:02.629282Z",
     "shell.execute_reply": "2022-10-22T05:37:02.627272Z"
    },
    "papermill": {
     "duration": 0.150281,
     "end_time": "2022-10-22T05:37:02.632384",
     "exception": false,
     "start_time": "2022-10-22T05:37:02.482103",
     "status": "completed"
    },
    "tags": []
   },
   "outputs": [],
   "source": [
    "x = omega\n",
    "y = [int(i)-1 for i in y_labels]\n",
    "\n",
    "Y = np.array(y)\n",
    "X = np.array(x)\n",
    "\n",
    "from sklearn.model_selection import train_test_split\n",
    "X_train, X_test, y_train, y_test = train_test_split(X,Y,random_state=0,test_size =0.20)"
   ]
  },
  {
   "cell_type": "code",
   "execution_count": 21,
   "id": "8ce0e23e",
   "metadata": {
    "execution": {
     "iopub.execute_input": "2022-10-22T05:37:02.666303Z",
     "iopub.status.busy": "2022-10-22T05:37:02.665723Z",
     "iopub.status.idle": "2022-10-22T05:37:13.606168Z",
     "shell.execute_reply": "2022-10-22T05:37:13.605053Z"
    },
    "papermill": {
     "duration": 10.958783,
     "end_time": "2022-10-22T05:37:13.608939",
     "exception": false,
     "start_time": "2022-10-22T05:37:02.650156",
     "status": "completed"
    },
    "tags": []
   },
   "outputs": [],
   "source": [
    "import tensorflow as tf\n",
    "from tensorflow import keras\n",
    "from keras import models,layers\n",
    "from tensorflow.keras.metrics import CategoricalAccuracy"
   ]
  },
  {
   "cell_type": "markdown",
   "id": "9ec728dd",
   "metadata": {
    "papermill": {
     "duration": 0.009922,
     "end_time": "2022-10-22T05:37:13.629566",
     "exception": false,
     "start_time": "2022-10-22T05:37:13.619644",
     "status": "completed"
    },
    "tags": []
   },
   "source": [
    "The below code has been turned into comments. We already know that ANNs don't work great on image data.  \n",
    "The below code depicts building a feed-forward neural network. This was built using tensorflow and keras. "
   ]
  },
  {
   "cell_type": "code",
   "execution_count": 19,
   "id": "560137a0",
   "metadata": {
    "execution": {
     "iopub.execute_input": "2022-10-22T05:37:13.650816Z",
     "iopub.status.busy": "2022-10-22T05:37:13.650234Z",
     "iopub.status.idle": "2022-10-22T05:37:13.654939Z",
     "shell.execute_reply": "2022-10-22T05:37:13.653908Z"
    },
    "papermill": {
     "duration": 0.01773,
     "end_time": "2022-10-22T05:37:13.657025",
     "exception": false,
     "start_time": "2022-10-22T05:37:13.639295",
     "status": "completed"
    },
    "tags": []
   },
   "outputs": [],
   "source": [
    "#Build Forward propagation\n",
    "# model=models.Sequential([\n",
    "#     layers.Dense(512,activation=layers.LeakyReLU()),\n",
    "#     layers.Dense(128,activation=layers.LeakyReLU()),\n",
    "#     layers.Dense(600,\"softmax\")\n",
    "# ])"
   ]
  },
  {
   "cell_type": "code",
   "execution_count": 20,
   "id": "a0b59a8a",
   "metadata": {
    "execution": {
     "iopub.execute_input": "2022-10-22T05:37:13.678611Z",
     "iopub.status.busy": "2022-10-22T05:37:13.678282Z",
     "iopub.status.idle": "2022-10-22T05:37:13.682370Z",
     "shell.execute_reply": "2022-10-22T05:37:13.681374Z"
    },
    "papermill": {
     "duration": 0.017277,
     "end_time": "2022-10-22T05:37:13.684461",
     "exception": false,
     "start_time": "2022-10-22T05:37:13.667184",
     "status": "completed"
    },
    "tags": []
   },
   "outputs": [],
   "source": [
    "##cost\n",
    "# model.compile(optimizer=\"rmsprop\",\n",
    "#                 loss=\"sparse_categorical_crossentropy\",\n",
    "#                 metrics=[CategoricalAccuracy()])"
   ]
  },
  {
   "cell_type": "code",
   "execution_count": 21,
   "id": "5efb8ed3",
   "metadata": {
    "execution": {
     "iopub.execute_input": "2022-10-22T05:37:13.706649Z",
     "iopub.status.busy": "2022-10-22T05:37:13.705825Z",
     "iopub.status.idle": "2022-10-22T05:37:13.710274Z",
     "shell.execute_reply": "2022-10-22T05:37:13.709439Z"
    },
    "papermill": {
     "duration": 0.017658,
     "end_time": "2022-10-22T05:37:13.712284",
     "exception": false,
     "start_time": "2022-10-22T05:37:13.694626",
     "status": "completed"
    },
    "tags": []
   },
   "outputs": [],
   "source": [
    "# model.fit(X_train,y_train,epochs=10)"
   ]
  },
  {
   "cell_type": "code",
   "execution_count": 22,
   "id": "95991e4a",
   "metadata": {
    "execution": {
     "iopub.execute_input": "2022-10-22T05:37:13.734080Z",
     "iopub.status.busy": "2022-10-22T05:37:13.733264Z",
     "iopub.status.idle": "2022-10-22T05:37:13.740231Z",
     "shell.execute_reply": "2022-10-22T05:37:13.739177Z"
    },
    "papermill": {
     "duration": 0.019685,
     "end_time": "2022-10-22T05:37:13.742233",
     "exception": false,
     "start_time": "2022-10-22T05:37:13.722548",
     "status": "completed"
    },
    "tags": []
   },
   "outputs": [
    {
     "data": {
      "text/plain": [
       "(6000, 64, 64)"
      ]
     },
     "execution_count": 22,
     "metadata": {},
     "output_type": "execute_result"
    }
   ],
   "source": [
    "\n",
    "projectedImages2D = projectedFinger.reshape((-1, 64,64))\n",
    "projectedImages2D.shape"
   ]
  },
  {
   "cell_type": "code",
   "execution_count": 23,
   "id": "cd27217b",
   "metadata": {
    "execution": {
     "iopub.execute_input": "2022-10-22T05:37:13.765484Z",
     "iopub.status.busy": "2022-10-22T05:37:13.764580Z",
     "iopub.status.idle": "2022-10-22T05:37:13.987461Z",
     "shell.execute_reply": "2022-10-22T05:37:13.986488Z"
    },
    "papermill": {
     "duration": 0.236837,
     "end_time": "2022-10-22T05:37:13.989768",
     "exception": false,
     "start_time": "2022-10-22T05:37:13.752931",
     "status": "completed"
    },
    "tags": []
   },
   "outputs": [
    {
     "data": {
      "text/plain": [
       "<matplotlib.image.AxesImage at 0x2cc4456f748>"
      ]
     },
     "execution_count": 23,
     "metadata": {},
     "output_type": "execute_result"
    },
    {
     "data": {
      "image/png": "[encoded data removed]",
      "text/plain": [
       "<Figure size 432x288 with 1 Axes>"
      ]
     },
     "metadata": {
      "needs_background": "light"
     },
     "output_type": "display_data"
    }
   ],
   "source": [
    "plt.imshow(projectedImages2D[0],cmap = plt.cm.bone)"
   ]
  },
  {
   "cell_type": "markdown",
   "id": "b2a482f4",
   "metadata": {
    "papermill": {
     "duration": 0.011238,
     "end_time": "2022-10-22T05:37:14.012431",
     "exception": false,
     "start_time": "2022-10-22T05:37:14.001193",
     "status": "completed"
    },
    "tags": []
   },
   "source": [
    "### CNN model"
   ]
  },
  {
   "cell_type": "code",
   "execution_count": 24,
   "id": "a813e72b",
   "metadata": {
    "execution": {
     "iopub.execute_input": "2022-10-22T05:37:14.036722Z",
     "iopub.status.busy": "2022-10-22T05:37:14.035823Z",
     "iopub.status.idle": "2022-10-22T05:37:14.042372Z",
     "shell.execute_reply": "2022-10-22T05:37:14.041434Z"
    },
    "papermill": {
     "duration": 0.021103,
     "end_time": "2022-10-22T05:37:14.044584",
     "exception": false,
     "start_time": "2022-10-22T05:37:14.023481",
     "status": "completed"
    },
    "tags": []
   },
   "outputs": [],
   "source": [
    "import tensorflow as tf \n",
    "from tensorflow.keras.layers import Conv2D, MaxPool2D, Dense, Input\n",
    "from tensorflow.keras import layers"
   ]
  },
  {
   "cell_type": "code",
   "execution_count": 25,
   "id": "4774abfb",
   "metadata": {
    "execution": {
     "iopub.execute_input": "2022-10-22T05:37:14.067815Z",
     "iopub.status.busy": "2022-10-22T05:37:14.066911Z",
     "iopub.status.idle": "2022-10-22T05:37:19.857917Z",
     "shell.execute_reply": "2022-10-22T05:37:19.856820Z"
    },
    "papermill": {
     "duration": 5.805103,
     "end_time": "2022-10-22T05:37:19.860510",
     "exception": false,
     "start_time": "2022-10-22T05:37:14.055407",
     "status": "completed"
    },
    "tags": []
   },
   "outputs": [
    {
     "name": "stderr",
     "output_type": "stream",
     "text": [
      "c:\\Users\\User\\AppData\\Local\\Programs\\Python\\Python36\\lib\\site-packages\\tensorflow\\python\\client\\session.py:1766: UserWarning: An interactive session is already active. This can cause out-of-memory errors in some cases. You must explicitly call `InteractiveSession.close()` to release resources held by the other session(s).\n",
      "  warnings.warn('An interactive session is already active. This can '\n"
     ]
    }
   ],
   "source": [
    "from tensorflow.compat.v1 import ConfigProto\n",
    "from tensorflow.compat.v1 import InteractiveSession\n",
    "\n",
    "config = ConfigProto()\n",
    "config.gpu_options.allow_growth = True\n",
    "session = InteractiveSession(config=config)"
   ]
  },
  {
   "cell_type": "code",
   "execution_count": 26,
   "id": "30752b65",
   "metadata": {
    "execution": {
     "iopub.execute_input": "2022-10-22T05:37:19.885433Z",
     "iopub.status.busy": "2022-10-22T05:37:19.884699Z",
     "iopub.status.idle": "2022-10-22T05:37:42.720444Z",
     "shell.execute_reply": "2022-10-22T05:37:42.719486Z"
    },
    "papermill": {
     "duration": 22.850365,
     "end_time": "2022-10-22T05:37:42.722670",
     "exception": false,
     "start_time": "2022-10-22T05:37:19.872305",
     "status": "completed"
    },
    "tags": []
   },
   "outputs": [
    {
     "name": "stdout",
     "output_type": "stream",
     "text": [
      "Epoch 1/10\n",
      "141/141 [==============================] - 15s 102ms/step - loss: 6.5787 - categorical_accuracy: 0.0000e+00 - val_loss: 7.9158 - val_categorical_accuracy: 0.0000e+00\n",
      "Epoch 2/10\n",
      "141/141 [==============================] - 13s 95ms/step - loss: 6.1250 - categorical_accuracy: 0.0000e+00 - val_loss: 9.6556 - val_categorical_accuracy: 6.6667e-04\n",
      "Epoch 3/10\n",
      "141/141 [==============================] - 14s 99ms/step - loss: 5.8267 - categorical_accuracy: 6.6667e-04 - val_loss: 11.5805 - val_categorical_accuracy: 0.0053\n",
      "Epoch 4/10\n",
      "141/141 [==============================] - 14s 103ms/step - loss: 5.3958 - categorical_accuracy: 0.0013 - val_loss: 15.4026 - val_categorical_accuracy: 0.0013\n",
      "Epoch 5/10\n",
      "141/141 [==============================] - 15s 104ms/step - loss: 4.8296 - categorical_accuracy: 0.0013 - val_loss: 16.5348 - val_categorical_accuracy: 0.0000e+00\n",
      "Epoch 6/10\n",
      "141/141 [==============================] - 15s 105ms/step - loss: 4.1588 - categorical_accuracy: 0.0020 - val_loss: 17.4088 - val_categorical_accuracy: 0.0000e+00\n",
      "Epoch 7/10\n",
      "141/141 [==============================] - 15s 107ms/step - loss: 3.5120 - categorical_accuracy: 0.0013 - val_loss: 18.5145 - val_categorical_accuracy: 0.0033\n",
      "Epoch 8/10\n",
      "141/141 [==============================] - 16s 111ms/step - loss: 2.7537 - categorical_accuracy: 0.0016 - val_loss: 20.9206 - val_categorical_accuracy: 0.0000e+00\n",
      "Epoch 9/10\n",
      "141/141 [==============================] - 15s 108ms/step - loss: 2.0215 - categorical_accuracy: 0.0018 - val_loss: 24.1173 - val_categorical_accuracy: 0.0020\n",
      "Epoch 10/10\n",
      "141/141 [==============================] - 15s 106ms/step - loss: 1.3894 - categorical_accuracy: 0.0018 - val_loss: 28.5137 - val_categorical_accuracy: 0.0027\n"
     ]
    }
   ],
   "source": [
    "# 0. Setting random seed\n",
    "tf.random.set_seed(42)\n",
    "\n",
    "# 1. Building the neural network\n",
    "conv_model = tf.keras.Sequential([\n",
    "    layers.Input(shape=(64, 64, 1)),\n",
    "    \n",
    "    layers.Conv2D(filters = 32,kernel_size = (3,3), activation='relu'),\n",
    "    layers.MaxPool2D(),\n",
    "    \n",
    "    layers.Conv2D(filters = 32,kernel_size = (3,3), activation='relu'),\n",
    "    layers.MaxPool2D(),\n",
    "    \n",
    "    layers.Conv2D(filters = 32,kernel_size = (3,3), activation='relu'),\n",
    "    layers.MaxPool2D(),\n",
    "    \n",
    "    layers.Flatten(),\n",
    "    \n",
    "    layers.Dense(128,activation='relu'),\n",
    "    layers.Dense(600,\"softmax\")\n",
    "    \n",
    "])\n",
    "\n",
    "# 2. Compiling the model\n",
    "conv_model.compile(optimizer=\"Adam\",\n",
    "                loss=\"sparse_categorical_crossentropy\",\n",
    "                metrics=[CategoricalAccuracy()])\n",
    "\n",
    "\n",
    "# 3. Fitting the model on data\n",
    "cov_history_0 = conv_model.fit(tf.expand_dims(projectedImages2D, axis=3),Y, epochs = 10, validation_split= 0.25)"
   ]
  },
  {
   "cell_type": "markdown",
   "id": "4fcd9b83",
   "metadata": {
    "papermill": {
     "duration": 0.018206,
     "end_time": "2022-10-22T05:37:42.759544",
     "exception": false,
     "start_time": "2022-10-22T05:37:42.741338",
     "status": "completed"
    },
    "tags": []
   },
   "source": [
    "### CNN model iter 2"
   ]
  },
  {
   "cell_type": "code",
   "execution_count": 27,
   "id": "0711fdca",
   "metadata": {
    "execution": {
     "iopub.execute_input": "2022-10-22T05:37:42.797759Z",
     "iopub.status.busy": "2022-10-22T05:37:42.796685Z",
     "iopub.status.idle": "2022-10-22T05:37:48.617770Z",
     "shell.execute_reply": "2022-10-22T05:37:48.616719Z"
    },
    "papermill": {
     "duration": 5.84255,
     "end_time": "2022-10-22T05:37:48.620118",
     "exception": false,
     "start_time": "2022-10-22T05:37:42.777568",
     "status": "completed"
    },
    "tags": []
   },
   "outputs": [
    {
     "name": "stdout",
     "output_type": "stream",
     "text": [
      "Epoch 1/25\n",
      "141/141 [==============================] - 29s 203ms/step - loss: 6.7154 - categorical_accuracy: 8.8889e-04 - val_loss: 6.4262 - val_categorical_accuracy: 0.0000e+00\n",
      "Epoch 2/25\n",
      "141/141 [==============================] - 31s 220ms/step - loss: 6.4082 - categorical_accuracy: 4.4444e-04 - val_loss: 6.4784 - val_categorical_accuracy: 0.0000e+00\n",
      "Epoch 3/25\n",
      "141/141 [==============================] - 33s 233ms/step - loss: 6.3804 - categorical_accuracy: 0.0013 - val_loss: 6.6799 - val_categorical_accuracy: 0.0000e+00\n",
      "Epoch 4/25\n",
      "141/141 [==============================] - 31s 218ms/step - loss: 6.3303 - categorical_accuracy: 2.2222e-04 - val_loss: 6.9413 - val_categorical_accuracy: 0.0000e+00\n"
     ]
    }
   ],
   "source": [
    "# 0. Setting random seed\n",
    "tf.random.set_seed(42)\n",
    "\n",
    "# 1. Building the neural network\n",
    "inputs = layers.Input(shape=(64, 64, 1), name=\"input_layer\")\n",
    "x = layers.Conv2D(16, (5, 5), strides=(1, 1), padding='same', name='conv1')(inputs)\n",
    "x = layers.Activation('relu', name='conv1_relu')(x)\n",
    "x = layers.MaxPooling2D((2, 2), strides=(2, 2), padding='valid', name='pool1')(x)\n",
    "x = layers.Conv2D(32, (5, 5), strides=(1, 1), padding='same', name='conv2')(x)\n",
    "x = layers.Activation('relu', name='conv2_relu')(x)\n",
    "x = layers.MaxPooling2D((2, 2), strides=(2, 2), padding='valid', name='pool2')(x)\n",
    "x = layers.Conv2D(64, (5, 5), strides=(1, 1), padding='same', name='conv3')(x)\n",
    "x = layers.Activation('relu', name='conv3_relu')(x)\n",
    "x = layers.MaxPooling2D((2, 2), strides=(2, 2), padding='valid', name='pool3')(x)\n",
    "x = layers.Conv2D(128, (5, 5), strides=(1, 1), padding='same', name='conv4')(x)\n",
    "x = layers.Activation('relu', name='conv4_relu')(x)\n",
    "x = layers.MaxPooling2D((2, 2), strides=(2, 2), padding='valid', name='pool4')(x)\n",
    "x = layers.Flatten()(x)\n",
    "x = layers.Dense(1024, activation='relu', name='fcl1')(x)\n",
    "x = layers.Dropout(0.2)(x)\n",
    "x = layers.Dense(256, activation='relu', name='fcl2')(x)\n",
    "x = layers.Dropout(0.2)(x)\n",
    "outputs = layers.Dense(600, activation='softmax', name='predictions')(x)\n",
    "model_2 = tf.keras.Model(inputs=inputs, outputs=outputs, name=\"CNN_model_iter_2\")\n",
    "\n",
    "# 2. Compiling the model\n",
    "model_2.compile(tf.keras.optimizers.Adadelta(learning_rate=0.1),\n",
    "                loss=\"sparse_categorical_crossentropy\",\n",
    "                metrics=[CategoricalAccuracy()])\n",
    "\n",
    "# 3, Creating callbacks\n",
    "CALLBACKS = [tf.keras.callbacks.EarlyStopping(patience = 3, restore_best_weights = True)]\n",
    "\n",
    "# 4. Training the model\n",
    "conv_history_1 = model_2.fit(tf.expand_dims(projectedImages2D, axis=3),Y, epochs = 25, validation_split= 0.25, callbacks=CALLBACKS)"
   ]
  },
  {
   "cell_type": "code",
   "execution_count": 28,
   "id": "fa15bff7",
   "metadata": {
    "execution": {
     "iopub.execute_input": "2022-10-22T05:37:48.667738Z",
     "iopub.status.busy": "2022-10-22T05:37:48.666808Z",
     "iopub.status.idle": "2022-10-22T05:37:48.673651Z",
     "shell.execute_reply": "2022-10-22T05:37:48.672564Z"
    },
    "papermill": {
     "duration": 0.032759,
     "end_time": "2022-10-22T05:37:48.675863",
     "exception": false,
     "start_time": "2022-10-22T05:37:48.643104",
     "status": "completed"
    },
    "tags": []
   },
   "outputs": [
    {
     "data": {
      "text/plain": [
       "(6000, 4096)"
      ]
     },
     "execution_count": 28,
     "metadata": {},
     "output_type": "execute_result"
    }
   ],
   "source": [
    "preprocessed_images.shape"
   ]
  },
  {
   "cell_type": "code",
   "execution_count": 29,
   "id": "a44e0b8a",
   "metadata": {
    "execution": {
     "iopub.execute_input": "2022-10-22T05:37:48.722248Z",
     "iopub.status.busy": "2022-10-22T05:37:48.721968Z",
     "iopub.status.idle": "2022-10-22T05:37:48.731062Z",
     "shell.execute_reply": "2022-10-22T05:37:48.730156Z"
    },
    "papermill": {
     "duration": 0.034736,
     "end_time": "2022-10-22T05:37:48.733101",
     "exception": false,
     "start_time": "2022-10-22T05:37:48.698365",
     "status": "completed"
    },
    "tags": []
   },
   "outputs": [
    {
     "data": {
      "text/plain": [
       "(6000, 64, 64)"
      ]
     },
     "execution_count": 29,
     "metadata": {},
     "output_type": "execute_result"
    }
   ],
   "source": [
    "raw_images_reshaped = preprocessed_images.reshape((-1, 64, 64))\n",
    "raw_images_reshaped.shape"
   ]
  },
  {
   "cell_type": "code",
   "execution_count": 30,
   "id": "e83b9a26",
   "metadata": {
    "execution": {
     "iopub.execute_input": "2022-10-22T05:37:48.781318Z",
     "iopub.status.busy": "2022-10-22T05:37:48.780664Z",
     "iopub.status.idle": "2022-10-22T05:37:53.997784Z",
     "shell.execute_reply": "2022-10-22T05:37:53.996785Z"
    },
    "papermill": {
     "duration": 5.243808,
     "end_time": "2022-10-22T05:37:54.000078",
     "exception": false,
     "start_time": "2022-10-22T05:37:48.756270",
     "status": "completed"
    },
    "tags": []
   },
   "outputs": [
    {
     "name": "stdout",
     "output_type": "stream",
     "text": [
      "Epoch 1/25\n",
      "141/141 [==============================] - 27s 189ms/step - loss: 6.9182 - categorical_accuracy: 0.0000e+00 - val_loss: 6.4319 - val_categorical_accuracy: 0.0000e+00\n",
      "Epoch 2/25\n",
      "141/141 [==============================] - 29s 208ms/step - loss: 6.4236 - categorical_accuracy: 8.8889e-04 - val_loss: 6.4305 - val_categorical_accuracy: 6.6667e-04\n",
      "Epoch 3/25\n",
      "141/141 [==============================] - 30s 216ms/step - loss: 6.4033 - categorical_accuracy: 0.0071 - val_loss: 6.5528 - val_categorical_accuracy: 0.0000e+00\n",
      "Epoch 4/25\n",
      "141/141 [==============================] - 29s 208ms/step - loss: 6.3700 - categorical_accuracy: 2.2222e-04 - val_loss: 6.7133 - val_categorical_accuracy: 0.0000e+00\n",
      "Epoch 5/25\n",
      "141/141 [==============================] - 30s 215ms/step - loss: 6.3291 - categorical_accuracy: 0.0000e+00 - val_loss: 6.9402 - val_categorical_accuracy: 0.0000e+00\n"
     ]
    }
   ],
   "source": [
    "# 0. Setting random seed\n",
    "tf.random.set_seed(42)\n",
    "\n",
    "# 1. Building the neural network\n",
    "inputs = layers.Input(shape=(64, 64, 1), name=\"input_layer\")\n",
    "x = layers.Normalization()(inputs)\n",
    "x = layers.Conv2D(16, (5, 5), strides=(1, 1), padding='same', name='conv1')(x)\n",
    "x = layers.Activation('relu', name='conv1_relu')(x)\n",
    "x = layers.MaxPooling2D((2, 2), strides=(2, 2), padding='valid', name='pool1')(x)\n",
    "x = layers.Conv2D(32, (5, 5), strides=(1, 1), padding='same', name='conv2')(x)\n",
    "x = layers.Activation('relu', name='conv2_relu')(x)\n",
    "x = layers.MaxPooling2D((2, 2), strides=(2, 2), padding='valid', name='pool2')(x)\n",
    "x = layers.Conv2D(64, (5, 5), strides=(1, 1), padding='same', name='conv3')(x)\n",
    "x = layers.Activation('relu', name='conv3_relu')(x)\n",
    "x = layers.MaxPooling2D((2, 2), strides=(2, 2), padding='valid', name='pool3')(x)\n",
    "x = layers.Conv2D(128, (5, 5), strides=(1, 1), padding='same', name='conv4')(x)\n",
    "x = layers.Activation('relu', name='conv4_relu')(x)\n",
    "x = layers.MaxPooling2D((2, 2), strides=(2, 2), padding='valid', name='pool4')(x)\n",
    "x = layers.Flatten()(x)\n",
    "x = layers.Dense(1024, activation='relu', name='fcl1')(x)\n",
    "x = layers.Dropout(0.2)(x)\n",
    "x = layers.Dense(256, activation='relu', name='fcl2')(x)\n",
    "x = layers.Dropout(0.2)(x)\n",
    "outputs = layers.Dense(600, activation='softmax', name='predictions')(x)\n",
    "model_2 = tf.keras.Model(inputs=inputs, outputs=outputs, name=\"CNN_model_iter_2\")\n",
    "\n",
    "# 2. Compiling the model\n",
    "model_2.compile(tf.keras.optimizers.Adadelta(learning_rate=0.1),\n",
    "                loss=\"sparse_categorical_crossentropy\",\n",
    "                metrics=[CategoricalAccuracy()])\n",
    "\n",
    "# 3, Creating callbacks\n",
    "CALLBACKS = [tf.keras.callbacks.EarlyStopping(patience = 3, restore_best_weights = True)]\n",
    "\n",
    "# 4. Training the model\n",
    "conv_history_1 = model_2.fit(tf.expand_dims(raw_images_reshaped, axis=3),Y, epochs = 25, validation_split= 0.25, callbacks=CALLBACKS)"
   ]
  },
  {
   "cell_type": "markdown",
   "id": "21cd27ef",
   "metadata": {
    "papermill": {
     "duration": 0.026109,
     "end_time": "2022-10-22T05:37:54.055225",
     "exception": false,
     "start_time": "2022-10-22T05:37:54.029116",
     "status": "completed"
    },
    "tags": []
   },
   "source": [
    "### Using EfficientNetB0"
   ]
  },
  {
   "cell_type": "code",
   "execution_count": 31,
   "id": "30c33e95",
   "metadata": {
    "execution": {
     "iopub.execute_input": "2022-10-22T05:37:54.108791Z",
     "iopub.status.busy": "2022-10-22T05:37:54.108432Z",
     "iopub.status.idle": "2022-10-22T05:37:55.298470Z",
     "shell.execute_reply": "2022-10-22T05:37:55.297448Z"
    },
    "papermill": {
     "duration": 1.219413,
     "end_time": "2022-10-22T05:37:55.300999",
     "exception": false,
     "start_time": "2022-10-22T05:37:54.081586",
     "status": "completed"
    },
    "tags": []
   },
   "outputs": [
    {
     "data": {
      "text/plain": [
       "255"
      ]
     },
     "execution_count": 31,
     "metadata": {},
     "output_type": "execute_result"
    }
   ],
   "source": [
    "max(raw_images_reshaped.flatten())"
   ]
  },
  {
   "cell_type": "code",
   "execution_count": 32,
   "id": "244e6401",
   "metadata": {
    "execution": {
     "iopub.execute_input": "2022-10-22T05:37:55.357096Z",
     "iopub.status.busy": "2022-10-22T05:37:55.356782Z",
     "iopub.status.idle": "2022-10-22T05:38:30.852706Z",
     "shell.execute_reply": "2022-10-22T05:38:30.851554Z"
    },
    "papermill": {
     "duration": 35.527251,
     "end_time": "2022-10-22T05:38:30.855541",
     "exception": false,
     "start_time": "2022-10-22T05:37:55.328290",
     "status": "completed"
    },
    "tags": []
   },
   "outputs": [
    {
     "name": "stdout",
     "output_type": "stream",
     "text": [
      "Downloading data from https://storage.googleapis.com/keras-applications/efficientnetb0_notop.h5\n",
      "16711680/16705208 [==============================] - 3s 0us/step\n",
      "16719872/16705208 [==============================] - 3s 0us/step\n",
      "WARNING:tensorflow:Model was constructed with shape (None, None, None, 3) for input KerasTensor(type_spec=TensorSpec(shape=(None, None, None, 3), dtype=tf.float32, name='input_3'), name='input_3', description=\"created by layer 'input_3'\"), but it was called on an input with incompatible shape (None, 64, 64, 1).\n",
      "Model: \"model_2_freezed_EfficientNet\"\n",
      "_________________________________________________________________\n",
      "Layer (type)                 Output Shape              Param #   \n",
      "=================================================================\n",
      "input_layer (InputLayer)     [(None, 64, 64, 1)]       0         \n",
      "_________________________________________________________________\n",
      "batch_normalization (BatchNo (None, 64, 64, 1)         4         \n",
      "_________________________________________________________________\n",
      "efficientnetb0 (Functional)  (None, None, None, 1280)  4049571   \n",
      "_________________________________________________________________\n",
      "global_average_pooling_layer (None, 1280)              0         \n",
      "_________________________________________________________________\n",
      "output_layer (Dense)         (None, 600)               768600    \n",
      "=================================================================\n",
      "Total params: 4,818,175\n",
      "Trainable params: 768,602\n",
      "Non-trainable params: 4,049,573\n",
      "_________________________________________________________________\n",
      "Epoch 1/25\n",
      "WARNING:tensorflow:Model was constructed with shape (None, None, None, 3) for input KerasTensor(type_spec=TensorSpec(shape=(None, None, None, 3), dtype=tf.float32, name='input_3'), name='input_3', description=\"created by layer 'input_3'\"), but it was called on an input with incompatible shape (None, 64, 64, 1).\n",
      "WARNING:tensorflow:Model was constructed with shape (None, None, None, 3) for input KerasTensor(type_spec=TensorSpec(shape=(None, None, None, 3), dtype=tf.float32, name='input_3'), name='input_3', description=\"created by layer 'input_3'\"), but it was called on an input with incompatible shape (None, 64, 64, 1).\n",
      "141/141 [==============================] - ETA: 0s - loss: 6.5567 - categorical_accuracy: 0.0131WARNING:tensorflow:Model was constructed with shape (None, None, None, 3) for input KerasTensor(type_spec=TensorSpec(shape=(None, None, None, 3), dtype=tf.float32, name='input_3'), name='input_3', description=\"created by layer 'input_3'\"), but it was called on an input with incompatible shape (None, 64, 64, 1).\n",
      "141/141 [==============================] - 79s 519ms/step - loss: 6.5567 - categorical_accuracy: 0.0131 - val_loss: 11.3821 - val_categorical_accuracy: 0.0000e+00\n",
      "Epoch 2/25\n",
      "141/141 [==============================] - 73s 519ms/step - loss: 6.3487 - categorical_accuracy: 0.0000e+00 - val_loss: 12.3510 - val_categorical_accuracy: 0.0000e+00\n",
      "Epoch 3/25\n",
      "141/141 [==============================] - 72s 512ms/step - loss: 6.3188 - categorical_accuracy: 0.0000e+00 - val_loss: 12.9105 - val_categorical_accuracy: 0.0000e+00\n",
      "Epoch 4/25\n",
      "141/141 [==============================] - 76s 540ms/step - loss: 6.2936 - categorical_accuracy: 0.0000e+00 - val_loss: 13.3218 - val_categorical_accuracy: 0.0000e+00\n"
     ]
    }
   ],
   "source": [
    "# 0. Set random seed\n",
    "tf.random.set_seed(42)\n",
    "INPUT_SHAPE = (64, 64, 1)\n",
    "\n",
    "# 1. Create the model\n",
    "base_efficient_net_model=tf.keras.applications.EfficientNetB0(include_top=False)\n",
    "base_efficient_net_model.trainable=False\n",
    "inputs= layers.Input(shape=INPUT_SHAPE, name=\"input_layer\")\n",
    "x = layers.BatchNormalization()(inputs)\n",
    "x = base_efficient_net_model(x)\n",
    "x = layers.GlobalAveragePooling2D(name=\"global_average_pooling_layer\")(x)\n",
    "outputs=layers.Dense(600,activation=\"softmax\",name=\"output_layer\")(x)\n",
    "model_2 = tf.keras.Model(inputs=inputs, outputs=outputs, name=\"model_2_freezed_EfficientNet\")\n",
    "\n",
    "# 2. Compile the model\n",
    "model_2.compile(loss=\"sparse_categorical_crossentropy\",\n",
    "                optimizer=\"Adam\",\n",
    "                metrics=[CategoricalAccuracy()])\n",
    "\n",
    "# 3. Get the summary\n",
    "model_2.summary()\n",
    "\n",
    "# 4. Training the model\n",
    "conv_history_2 = model_2.fit(tf.expand_dims(raw_images_reshaped, axis=3),Y, epochs = 25, validation_split= 0.25, callbacks=CALLBACKS)"
   ]
  }
 ],
 "metadata": {
  "kernelspec": {
   "display_name": "Python 3",
   "language": "python",
   "name": "python3"
  },
  "language_info": {
   "codemirror_mode": {
    "name": "ipython",
    "version": 3
   },
   "file_extension": ".py",
   "mimetype": "text/x-python",
   "name": "python",
   "nbconvert_exporter": "python",
   "pygments_lexer": "ipython3",
   "version": "3.6.5"
  },
  "papermill": {
   "default_parameters": {},
   "duration": 301.351959,
   "end_time": "2022-10-22T05:38:34.418667",
   "environment_variables": {},
   "exception": null,
   "input_path": "__notebook__.ipynb",
   "output_path": "__notebook__.ipynb",
   "parameters": {},
   "start_time": "2022-10-22T05:33:33.066708",
   "version": "2.3.4"
  },
  "vscode": {
   "interpreter": {
    "hash": "ae9660db38ac8643b5abe3ade23e36bb7e77026bbf1f37e511afc8ce3b66621b"
   }
  }
 },
 "nbformat": 4,
 "nbformat_minor": 5
}
